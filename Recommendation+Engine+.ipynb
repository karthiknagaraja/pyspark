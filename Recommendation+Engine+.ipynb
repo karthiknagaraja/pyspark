{
 "cells": [
  {
   "cell_type": "code",
   "execution_count": 10,
   "metadata": {
    "collapsed": false
   },
   "outputs": [],
   "source": [
    "#data in textfile separated by ::\n",
    "#so loading as textFile\n",
    "lines = spark.read.text('data/mllib/als/sample_movielens_ratings.txt').rdd"
   ]
  },
  {
   "cell_type": "code",
   "execution_count": 11,
   "metadata": {
    "collapsed": false
   },
   "outputs": [
    {
     "data": {
      "text/plain": [
       "[Row(value=u'0::2::3::1424380312'),\n",
       " Row(value=u'0::3::1::1424380312'),\n",
       " Row(value=u'0::5::2::1424380312'),\n",
       " Row(value=u'0::9::4::1424380312'),\n",
       " Row(value=u'0::11::1::1424380312')]"
      ]
     },
     "execution_count": 11,
     "metadata": {},
     "output_type": "execute_result"
    }
   ],
   "source": [
    "lines.take(5)"
   ]
  },
  {
   "cell_type": "code",
   "execution_count": 19,
   "metadata": {
    "collapsed": false
   },
   "outputs": [],
   "source": [
    "#Split based on ::\n",
    "data = lines.map(lambda row:row.split('::'))"
   ]
  },
  {
   "cell_type": "code",
   "execution_count": 13,
   "metadata": {
    "collapsed": false
   },
   "outputs": [
    {
     "data": {
      "text/plain": [
       "[[u'0', u'2', u'3', u'1424380312'],\n",
       " [u'0', u'3', u'1', u'1424380312'],\n",
       " [u'0', u'5', u'2', u'1424380312'],\n",
       " [u'0', u'9', u'4', u'1424380312'],\n",
       " [u'0', u'11', u'1', u'1424380312']]"
      ]
     },
     "execution_count": 13,
     "metadata": {},
     "output_type": "execute_result"
    }
   ],
   "source": [
    "data.take(5)"
   ]
  },
  {
   "cell_type": "code",
   "execution_count": 17,
   "metadata": {
    "collapsed": false
   },
   "outputs": [],
   "source": [
    "from pyspark.sql import Row\n",
    "\n",
    "rdd = data.map(lambda d: Row(userId= int(d[0]), \n",
    "                       movieId=int(d[1]), \n",
    "                       rating=int(d[2]), \n",
    "                       timestamp=long(d[3]) ))"
   ]
  },
  {
   "cell_type": "code",
   "execution_count": 18,
   "metadata": {
    "collapsed": false
   },
   "outputs": [
    {
     "data": {
      "text/plain": [
       "[Row(movieId=2, rating=3, timestamp=1424380312L, userId=0),\n",
       " Row(movieId=3, rating=1, timestamp=1424380312L, userId=0)]"
      ]
     },
     "execution_count": 18,
     "metadata": {},
     "output_type": "execute_result"
    }
   ],
   "source": [
    "rdd.take(2)"
   ]
  },
  {
   "cell_type": "code",
   "execution_count": 20,
   "metadata": {
    "collapsed": true
   },
   "outputs": [],
   "source": [
    "df = spark.createDataFrame(rdd)"
   ]
  },
  {
   "cell_type": "code",
   "execution_count": 21,
   "metadata": {
    "collapsed": false
   },
   "outputs": [
    {
     "name": "stdout",
     "output_type": "stream",
     "text": [
      "+-------+------+----------+------+\n",
      "|movieId|rating| timestamp|userId|\n",
      "+-------+------+----------+------+\n",
      "|      2|     3|1424380312|     0|\n",
      "|      3|     1|1424380312|     0|\n",
      "|      5|     2|1424380312|     0|\n",
      "|      9|     4|1424380312|     0|\n",
      "|     11|     1|1424380312|     0|\n",
      "|     12|     2|1424380312|     0|\n",
      "|     15|     1|1424380312|     0|\n",
      "|     17|     1|1424380312|     0|\n",
      "|     19|     1|1424380312|     0|\n",
      "|     21|     1|1424380312|     0|\n",
      "|     23|     1|1424380312|     0|\n",
      "|     26|     3|1424380312|     0|\n",
      "|     27|     1|1424380312|     0|\n",
      "|     28|     1|1424380312|     0|\n",
      "|     29|     1|1424380312|     0|\n",
      "|     30|     1|1424380312|     0|\n",
      "|     31|     1|1424380312|     0|\n",
      "|     34|     1|1424380312|     0|\n",
      "|     37|     1|1424380312|     0|\n",
      "|     41|     2|1424380312|     0|\n",
      "+-------+------+----------+------+\n",
      "only showing top 20 rows\n",
      "\n"
     ]
    }
   ],
   "source": [
    "df.show()"
   ]
  },
  {
   "cell_type": "code",
   "execution_count": 22,
   "metadata": {
    "collapsed": false
   },
   "outputs": [
    {
     "name": "stdout",
     "output_type": "stream",
     "text": [
      "+-------+------+----------+------+\n",
      "|movieId|rating| timestamp|userId|\n",
      "+-------+------+----------+------+\n",
      "|      2|     3|1424380312|     0|\n",
      "|      3|     1|1424380312|     0|\n",
      "|      5|     2|1424380312|     0|\n",
      "|      9|     4|1424380312|     0|\n",
      "|     11|     1|1424380312|     0|\n",
      "|     12|     2|1424380312|     0|\n",
      "|     15|     1|1424380312|     0|\n",
      "|     17|     1|1424380312|     0|\n",
      "|     19|     1|1424380312|     0|\n",
      "|     21|     1|1424380312|     0|\n",
      "|     23|     1|1424380312|     0|\n",
      "|     26|     3|1424380312|     0|\n",
      "|     27|     1|1424380312|     0|\n",
      "|     28|     1|1424380312|     0|\n",
      "|     29|     1|1424380312|     0|\n",
      "|     30|     1|1424380312|     0|\n",
      "|     31|     1|1424380312|     0|\n",
      "|     34|     1|1424380312|     0|\n",
      "|     37|     1|1424380312|     0|\n",
      "|     41|     2|1424380312|     0|\n",
      "+-------+------+----------+------+\n",
      "only showing top 20 rows\n",
      "\n"
     ]
    }
   ],
   "source": [
    "rdd.toDF().show()"
   ]
  },
  {
   "cell_type": "code",
   "execution_count": 23,
   "metadata": {
    "collapsed": true
   },
   "outputs": [],
   "source": [
    "train, test = df.randomSplit([0.8,0.2])"
   ]
  },
  {
   "cell_type": "code",
   "execution_count": 24,
   "metadata": {
    "collapsed": true
   },
   "outputs": [],
   "source": [
    "from pyspark.ml.recommendation import ALS"
   ]
  },
  {
   "cell_type": "code",
   "execution_count": null,
   "metadata": {
    "collapsed": true
   },
   "outputs": [],
   "source": [
    "als = ALS(maxIter=5, regParam=0.01, userCol=\"userId\", itemCol=\"movieId\")"
   ]
  }
 ],
 "metadata": {
  "kernelspec": {
   "display_name": "Python 2",
   "language": "python",
   "name": "python2"
  },
  "language_info": {
   "codemirror_mode": {
    "name": "ipython",
    "version": 2
   },
   "file_extension": ".py",
   "mimetype": "text/x-python",
   "name": "python",
   "nbconvert_exporter": "python",
   "pygments_lexer": "ipython2",
   "version": "2.7.13"
  }
 },
 "nbformat": 4,
 "nbformat_minor": 2
}
