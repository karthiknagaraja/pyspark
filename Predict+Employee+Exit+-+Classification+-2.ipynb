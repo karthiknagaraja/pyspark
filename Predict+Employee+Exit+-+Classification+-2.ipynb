{
 "cells": [
  {
   "cell_type": "code",
   "execution_count": 3,
   "metadata": {
    "collapsed": false
   },
   "outputs": [],
   "source": [
    "hr_data = spark.read.csv('HR_comma_sep.csv',inferSchema=True,header=True)"
   ]
  },
  {
   "cell_type": "code",
   "execution_count": 4,
   "metadata": {
    "collapsed": false
   },
   "outputs": [
    {
     "data": {
      "text/plain": [
       "Row(satisfaction_level=0.38, last_evaluation=0.53, number_project=2, average_montly_hours=157, time_spend_company=3, Work_accident=0, left=1, promotion_last_5years=0, sales=u'sales', salary=u'low')"
      ]
     },
     "execution_count": 4,
     "metadata": {},
     "output_type": "execute_result"
    }
   ],
   "source": [
    "hr_data.head()"
   ]
  },
  {
   "cell_type": "code",
   "execution_count": 5,
   "metadata": {
    "collapsed": false
   },
   "outputs": [
    {
     "name": "stdout",
     "output_type": "stream",
     "text": [
      "root\n",
      " |-- satisfaction_level: double (nullable = true)\n",
      " |-- last_evaluation: double (nullable = true)\n",
      " |-- number_project: integer (nullable = true)\n",
      " |-- average_montly_hours: integer (nullable = true)\n",
      " |-- time_spend_company: integer (nullable = true)\n",
      " |-- Work_accident: integer (nullable = true)\n",
      " |-- left: integer (nullable = true)\n",
      " |-- promotion_last_5years: integer (nullable = true)\n",
      " |-- sales: string (nullable = true)\n",
      " |-- salary: string (nullable = true)\n",
      "\n"
     ]
    }
   ],
   "source": [
    "hr_data.printSchema()"
   ]
  },
  {
   "cell_type": "code",
   "execution_count": 6,
   "metadata": {
    "collapsed": false
   },
   "outputs": [
    {
     "data": {
      "text/plain": [
       "[Row(sales=u'management'),\n",
       " Row(sales=u'product_mng'),\n",
       " Row(sales=u'marketing'),\n",
       " Row(sales=u'sales'),\n",
       " Row(sales=u'hr'),\n",
       " Row(sales=u'accounting'),\n",
       " Row(sales=u'support'),\n",
       " Row(sales=u'IT'),\n",
       " Row(sales=u'technical'),\n",
       " Row(sales=u'RandD')]"
      ]
     },
     "execution_count": 6,
     "metadata": {},
     "output_type": "execute_result"
    }
   ],
   "source": [
    "#Get unique data of sales col\n",
    "hr_data[['sales']].distinct().collect()"
   ]
  },
  {
   "cell_type": "code",
   "execution_count": 7,
   "metadata": {
    "collapsed": true
   },
   "outputs": [],
   "source": [
    "#Rename col from sales to dept\n",
    "hr_data = hr_data.withColumnRenamed('sales','dept')"
   ]
  },
  {
   "cell_type": "code",
   "execution_count": 8,
   "metadata": {
    "collapsed": false
   },
   "outputs": [
    {
     "name": "stdout",
     "output_type": "stream",
     "text": [
      "root\n",
      " |-- satisfaction_level: double (nullable = true)\n",
      " |-- last_evaluation: double (nullable = true)\n",
      " |-- number_project: integer (nullable = true)\n",
      " |-- average_montly_hours: integer (nullable = true)\n",
      " |-- time_spend_company: integer (nullable = true)\n",
      " |-- Work_accident: integer (nullable = true)\n",
      " |-- left: integer (nullable = true)\n",
      " |-- promotion_last_5years: integer (nullable = true)\n",
      " |-- dept: string (nullable = true)\n",
      " |-- salary: string (nullable = true)\n",
      "\n"
     ]
    }
   ],
   "source": [
    "hr_data.printSchema()"
   ]
  },
  {
   "cell_type": "code",
   "execution_count": 9,
   "metadata": {
    "collapsed": false
   },
   "outputs": [
    {
     "data": {
      "text/plain": [
       "[Row(salary=u'low'), Row(salary=u'high'), Row(salary=u'medium')]"
      ]
     },
     "execution_count": 9,
     "metadata": {},
     "output_type": "execute_result"
    }
   ],
   "source": [
    "#Get unique data of sales col\n",
    "\n",
    "#hr_data[['salary']].distinct().collect()\n",
    "\n",
    "hr_data.select('salary').distinct().collect()"
   ]
  },
  {
   "cell_type": "code",
   "execution_count": 10,
   "metadata": {
    "collapsed": false
   },
   "outputs": [
    {
     "name": "stdout",
     "output_type": "stream",
     "text": [
      "+-------+-------------------+-------------------+------------------+\n",
      "|summary| satisfaction_level|               left|    number_project|\n",
      "+-------+-------------------+-------------------+------------------+\n",
      "|  count|              14999|              14999|             14999|\n",
      "|   mean| 0.6128335222348166| 0.2380825388359224|  3.80305353690246|\n",
      "| stddev|0.24863065106114257|0.42592409938029885|1.2325923553183513|\n",
      "|    min|               0.09|                  0|                 2|\n",
      "|    max|                1.0|                  1|                 7|\n",
      "+-------+-------------------+-------------------+------------------+\n",
      "\n"
     ]
    }
   ],
   "source": [
    "hr_data.describe()['summary','satisfaction_level','left','number_project'].show()"
   ]
  },
  {
   "cell_type": "markdown",
   "metadata": {},
   "source": [
    "### Featurization - Convert string data to numbers\n",
    "* dept & salary are categorical information\n",
    "* Need to convert them to number"
   ]
  },
  {
   "cell_type": "code",
   "execution_count": 11,
   "metadata": {
    "collapsed": true
   },
   "outputs": [],
   "source": [
    "import pyspark.ml.feature as ft\n",
    "\n",
    "#StringIndexer - converts string data to numbers\n",
    "#input cols are dept 7 salary.\n",
    "#output are *_en\n",
    "\n",
    "transformer_dept = ft.StringIndexer(inputCol='dept', outputCol='dept_en')\n",
    "transformer_salary = ft.StringIndexer(inputCol='salary', outputCol='salary_en')"
   ]
  },
  {
   "cell_type": "code",
   "execution_count": 12,
   "metadata": {
    "collapsed": true
   },
   "outputs": [],
   "source": [
    "# Convert numerical data into vector\n",
    "# VectorAssembler for creating vector"
   ]
  },
  {
   "cell_type": "code",
   "execution_count": 13,
   "metadata": {
    "collapsed": false
   },
   "outputs": [
    {
     "data": {
      "text/plain": [
       "['satisfaction_level',\n",
       " 'last_evaluation',\n",
       " 'number_project',\n",
       " 'average_montly_hours',\n",
       " 'time_spend_company',\n",
       " 'Work_accident',\n",
       " 'left',\n",
       " 'promotion_last_5years',\n",
       " 'dept',\n",
       " 'salary']"
      ]
     },
     "execution_count": 13,
     "metadata": {},
     "output_type": "execute_result"
    }
   ],
   "source": [
    "hr_data.columns"
   ]
  },
  {
   "cell_type": "code",
   "execution_count": 14,
   "metadata": {
    "collapsed": false
   },
   "outputs": [],
   "source": [
    "#Convert all numerical data to vector\n",
    "featurescreator = ft.VectorAssembler(inputCols=['satisfaction_level',\n",
    " 'last_evaluation',\n",
    " 'number_project',\n",
    " 'average_montly_hours',\n",
    " 'time_spend_company',\n",
    " 'Work_accident',\n",
    " 'promotion_last_5years','dept_en','salary_en'], outputCol='features')"
   ]
  },
  {
   "cell_type": "code",
   "execution_count": 15,
   "metadata": {
    "collapsed": true
   },
   "outputs": [],
   "source": [
    "import pyspark.ml.classification as cl"
   ]
  },
  {
   "cell_type": "code",
   "execution_count": 16,
   "metadata": {
    "collapsed": true
   },
   "outputs": [],
   "source": [
    "#creating estimator\n",
    "logistic = cl.LogisticRegression(maxIter=10, regParam=0.01, labelCol='left')"
   ]
  },
  {
   "cell_type": "code",
   "execution_count": 17,
   "metadata": {
    "collapsed": true
   },
   "outputs": [],
   "source": [
    "from pyspark.ml import Pipeline"
   ]
  },
  {
   "cell_type": "code",
   "execution_count": 18,
   "metadata": {
    "collapsed": true
   },
   "outputs": [],
   "source": [
    "#create pipeline connecting 3 transformers & one estimator\n",
    "pipeline = Pipeline(stages=[transformer_dept, \n",
    "                            transformer_salary, \n",
    "                            featurescreator,\n",
    "                            logistic])"
   ]
  },
  {
   "cell_type": "code",
   "execution_count": 19,
   "metadata": {
    "collapsed": true
   },
   "outputs": [],
   "source": [
    "#Split data for test & train\n",
    "#seed controls the random data generated\n",
    "hr_data_train, hr_data_test = hr_data.randomSplit([0.7,0.3],seed=100)"
   ]
  },
  {
   "cell_type": "code",
   "execution_count": 20,
   "metadata": {
    "collapsed": true
   },
   "outputs": [],
   "source": [
    "#Training the pipeline\n",
    "model = pipeline.fit(hr_data_train)"
   ]
  },
  {
   "cell_type": "code",
   "execution_count": 21,
   "metadata": {
    "collapsed": true
   },
   "outputs": [],
   "source": [
    "test_out = model.transform(hr_data_test)"
   ]
  },
  {
   "cell_type": "code",
   "execution_count": 22,
   "metadata": {
    "collapsed": false
   },
   "outputs": [
    {
     "data": {
      "text/plain": [
       "DataFrame[satisfaction_level: double, last_evaluation: double, number_project: int, average_montly_hours: int, time_spend_company: int, Work_accident: int, left: int, promotion_last_5years: int, dept: string, salary: string, dept_en: double, salary_en: double, features: vector, rawPrediction: vector, probability: vector, prediction: double]"
      ]
     },
     "execution_count": 22,
     "metadata": {},
     "output_type": "execute_result"
    }
   ],
   "source": [
    "test_out"
   ]
  },
  {
   "cell_type": "code",
   "execution_count": 23,
   "metadata": {
    "collapsed": false
   },
   "outputs": [
    {
     "data": {
      "text/plain": [
       "[Row(probability=DenseVector([0.3824, 0.6176])),\n",
       " Row(probability=DenseVector([0.327, 0.673])),\n",
       " Row(probability=DenseVector([0.3909, 0.6091])),\n",
       " Row(probability=DenseVector([0.359, 0.641])),\n",
       " Row(probability=DenseVector([0.3142, 0.6858]))]"
      ]
     },
     "execution_count": 23,
     "metadata": {},
     "output_type": "execute_result"
    }
   ],
   "source": [
    "test_out[['probability']].take(5)"
   ]
  },
  {
   "cell_type": "code",
   "execution_count": 24,
   "metadata": {
    "collapsed": true
   },
   "outputs": [],
   "source": [
    "#To find accuracy of the algo under processing\n",
    "import pyspark.ml.evaluation as ev"
   ]
  },
  {
   "cell_type": "code",
   "execution_count": 25,
   "metadata": {
    "collapsed": true
   },
   "outputs": [],
   "source": [
    "#BinaryClassification\n",
    "evaluator = ev.BinaryClassificationEvaluator(rawPredictionCol='probability', \n",
    "                                             labelCol='left')"
   ]
  },
  {
   "cell_type": "code",
   "execution_count": 26,
   "metadata": {
    "collapsed": false
   },
   "outputs": [
    {
     "data": {
      "text/plain": [
       "0.822542214798108"
      ]
     },
     "execution_count": 26,
     "metadata": {},
     "output_type": "execute_result"
    }
   ],
   "source": [
    "evaluator.evaluate(test_out)"
   ]
  },
  {
   "cell_type": "code",
   "execution_count": 27,
   "metadata": {
    "collapsed": false
   },
   "outputs": [
    {
     "data": {
      "text/plain": [
       "[Row(prediction=1.0),\n",
       " Row(prediction=1.0),\n",
       " Row(prediction=1.0),\n",
       " Row(prediction=1.0),\n",
       " Row(prediction=1.0)]"
      ]
     },
     "execution_count": 27,
     "metadata": {},
     "output_type": "execute_result"
    }
   ],
   "source": [
    "test_out[['prediction']].take(5)"
   ]
  },
  {
   "cell_type": "code",
   "execution_count": 28,
   "metadata": {
    "collapsed": false
   },
   "outputs": [
    {
     "name": "stdout",
     "output_type": "stream",
     "text": [
      "+------------------+---------------+--------------+--------------------+------------------+-------------+----+---------------------+-----------+------+\n",
      "|satisfaction_level|last_evaluation|number_project|average_montly_hours|time_spend_company|Work_accident|left|promotion_last_5years|       dept|salary|\n",
      "+------------------+---------------+--------------+--------------------+------------------+-------------+----+---------------------+-----------+------+\n",
      "|              0.09|           0.77|             5|                 275|                 4|            0|   1|                    0|product_mng|medium|\n",
      "|              0.09|           0.77|             6|                 244|                 4|            0|   1|                    0|product_mng|   low|\n",
      "|              0.09|           0.77|             6|                 256|                 5|            0|   1|                    0|    support|medium|\n",
      "|              0.09|           0.77|             6|                 282|                 5|            0|   1|                    0|      sales|medium|\n",
      "|              0.09|           0.78|             6|                 254|                 4|            0|   1|                    0|    support|   low|\n",
      "+------------------+---------------+--------------+--------------------+------------------+-------------+----+---------------------+-----------+------+\n",
      "only showing top 5 rows\n",
      "\n"
     ]
    }
   ],
   "source": [
    "test_out[hr_data.columns].show(5)"
   ]
  },
  {
   "cell_type": "code",
   "execution_count": 29,
   "metadata": {
    "collapsed": false
   },
   "outputs": [
    {
     "data": {
      "text/plain": [
       "-0.3883749834241161"
      ]
     },
     "execution_count": 29,
     "metadata": {},
     "output_type": "execute_result"
    }
   ],
   "source": [
    "hr_data.corr(col1='satisfaction_level', col2='left')"
   ]
  },
  {
   "cell_type": "code",
   "execution_count": 30,
   "metadata": {
    "collapsed": false
   },
   "outputs": [
    {
     "name": "stdout",
     "output_type": "stream",
     "text": [
      "+--------------------+----------+\n",
      "|            features|prediction|\n",
      "+--------------------+----------+\n",
      "|[0.09,0.77,5.0,27...|       1.0|\n",
      "|[0.09,0.77,6.0,24...|       1.0|\n",
      "|[0.09,0.77,6.0,25...|       1.0|\n",
      "|[0.09,0.77,6.0,28...|       1.0|\n",
      "|[0.09,0.78,6.0,25...|       1.0|\n",
      "|[0.09,0.78,6.0,26...|       1.0|\n",
      "|[0.09,0.78,6.0,26...|       1.0|\n",
      "|[0.09,0.79,6.0,27...|       1.0|\n",
      "|[0.09,0.79,6.0,29...|       1.0|\n",
      "|[0.09,0.79,6.0,29...|       1.0|\n",
      "|[0.09,0.8,6.0,301...|       1.0|\n",
      "|[0.09,0.8,6.0,301...|       1.0|\n",
      "|[0.09,0.8,6.0,304...|       1.0|\n",
      "|[0.09,0.8,6.0,304...|       1.0|\n",
      "|[0.09,0.8,7.0,283...|       1.0|\n",
      "|[0.09,0.81,6.0,25...|       1.0|\n",
      "|[0.09,0.82,6.0,25...|       1.0|\n",
      "|[0.09,0.82,6.0,25...|       1.0|\n",
      "|[0.09,0.83,6.0,25...|       1.0|\n",
      "|[0.09,0.83,6.0,25...|       1.0|\n",
      "+--------------------+----------+\n",
      "only showing top 20 rows\n",
      "\n"
     ]
    }
   ],
   "source": [
    "test_out[['features','prediction']].show()"
   ]
  },
  {
   "cell_type": "markdown",
   "metadata": {
    "collapsed": true
   },
   "source": [
    "#### Using Random Forest\n",
    "* Logistic Regression had integer label information (0,1)\n",
    "* Random Forest needs label information as dounle data only\n",
    "* Error - Int cannot be treated as double\n",
    "* It is an ensemble technique using decision trees"
   ]
  },
  {
   "cell_type": "code",
   "execution_count": 31,
   "metadata": {
    "collapsed": true
   },
   "outputs": [],
   "source": [
    "from pyspark.sql.functions import *\n",
    "\n",
    "hr_data = hr_data.withColumn('left', col('left').cast('double'))"
   ]
  },
  {
   "cell_type": "code",
   "execution_count": 32,
   "metadata": {
    "collapsed": false
   },
   "outputs": [
    {
     "name": "stdout",
     "output_type": "stream",
     "text": [
      "root\n",
      " |-- satisfaction_level: double (nullable = true)\n",
      " |-- last_evaluation: double (nullable = true)\n",
      " |-- number_project: integer (nullable = true)\n",
      " |-- average_montly_hours: integer (nullable = true)\n",
      " |-- time_spend_company: integer (nullable = true)\n",
      " |-- Work_accident: integer (nullable = true)\n",
      " |-- left: double (nullable = true)\n",
      " |-- promotion_last_5years: integer (nullable = true)\n",
      " |-- dept: string (nullable = true)\n",
      " |-- salary: string (nullable = true)\n",
      "\n"
     ]
    }
   ],
   "source": [
    "hr_data.printSchema()"
   ]
  },
  {
   "cell_type": "code",
   "execution_count": 36,
   "metadata": {
    "collapsed": false
   },
   "outputs": [],
   "source": [
    "## Create random forest estimator\n",
    "from pyspark.ml.classification import RandomForestClassifier\n",
    "rf = RandomForestClassifier(labelCol=\"left\", featuresCol=\"features\", \n",
    "                            numTrees=10, maxDepth=5.0)"
   ]
  },
  {
   "cell_type": "code",
   "execution_count": 37,
   "metadata": {
    "collapsed": true
   },
   "outputs": [],
   "source": [
    "#Pipeline with random forest\n",
    "pipeline = Pipeline(stages=[transformer_dept,\n",
    "                            transformer_salary,\n",
    "                            featurescreator,\n",
    "                            rf])"
   ]
  },
  {
   "cell_type": "code",
   "execution_count": 38,
   "metadata": {
    "collapsed": true
   },
   "outputs": [],
   "source": [
    "#Split data for test & train\n",
    "#seed controls the random data generated\n",
    "hr_data_train, hr_data_test = hr_data.randomSplit([0.7,0.3],seed=100)"
   ]
  },
  {
   "cell_type": "code",
   "execution_count": 39,
   "metadata": {
    "collapsed": true
   },
   "outputs": [],
   "source": [
    "model = pipeline.fit(hr_data_train)"
   ]
  },
  {
   "cell_type": "code",
   "execution_count": 40,
   "metadata": {
    "collapsed": true
   },
   "outputs": [],
   "source": [
    "test_out = model.transform(hr_data_test)"
   ]
  },
  {
   "cell_type": "code",
   "execution_count": 41,
   "metadata": {
    "collapsed": false
   },
   "outputs": [
    {
     "name": "stdout",
     "output_type": "stream",
     "text": [
      "+------------------+---------------+--------------+--------------------+------------------+-------------+----+---------------------+-----------+------+-------+---------+--------------------+--------------------+--------------------+----------+\n",
      "|satisfaction_level|last_evaluation|number_project|average_montly_hours|time_spend_company|Work_accident|left|promotion_last_5years|       dept|salary|dept_en|salary_en|            features|       rawPrediction|         probability|prediction|\n",
      "+------------------+---------------+--------------+--------------------+------------------+-------------+----+---------------------+-----------+------+-------+---------+--------------------+--------------------+--------------------+----------+\n",
      "|              0.09|           0.77|             5|                 275|                 4|            0| 1.0|                    0|product_mng|medium|    4.0|      1.0|[0.09,0.77,5.0,27...|[5.74772378951098...|[0.57477237895109...|       0.0|\n",
      "|              0.09|           0.77|             6|                 244|                 4|            0| 1.0|                    0|product_mng|   low|    4.0|      0.0|[0.09,0.77,6.0,24...|[2.15136153728055...|[0.21513615372805...|       1.0|\n",
      "|              0.09|           0.77|             6|                 256|                 5|            0| 1.0|                    0|    support|medium|    2.0|      1.0|[0.09,0.77,6.0,25...|[2.56544956912944...|[0.25654495691294...|       1.0|\n",
      "|              0.09|           0.77|             6|                 282|                 5|            0| 1.0|                    0|      sales|medium|    0.0|      1.0|[0.09,0.77,6.0,28...|[2.56544956912944...|[0.25654495691294...|       1.0|\n",
      "|              0.09|           0.78|             6|                 254|                 4|            0| 1.0|                    0|    support|   low|    2.0|      0.0|[0.09,0.78,6.0,25...|[2.15136153728055...|[0.21513615372805...|       1.0|\n",
      "|              0.09|           0.78|             6|                 260|                 4|            0| 1.0|                    0|         IT|medium|    3.0|      1.0|[0.09,0.78,6.0,26...|[2.56544956912944...|[0.25654495691294...|       1.0|\n",
      "|              0.09|           0.78|             6|                 263|                 4|            0| 1.0|                    0|  technical|   low|    1.0|      0.0|[0.09,0.78,6.0,26...|[2.15136153728055...|[0.21513615372805...|       1.0|\n",
      "|              0.09|           0.79|             6|                 275|                 4|            0| 1.0|                    0|      sales|   low|    0.0|      0.0|[0.09,0.79,6.0,27...|[2.15136153728055...|[0.21513615372805...|       1.0|\n",
      "|              0.09|           0.79|             6|                 293|                 5|            0| 1.0|                    0|      sales|   low|    0.0|      0.0|[0.09,0.79,6.0,29...|[0.43712777639800...|[0.04371277763980...|       1.0|\n",
      "|              0.09|           0.79|             6|                 293|                 5|            0| 1.0|                    0|      sales|   low|    0.0|      0.0|[0.09,0.79,6.0,29...|[0.43712777639800...|[0.04371277763980...|       1.0|\n",
      "|              0.09|            0.8|             6|                 301|                 5|            0| 1.0|                    0|         IT|medium|    3.0|      1.0|[0.09,0.8,6.0,301...|[0.85121580824689...|[0.08512158082468...|       1.0|\n",
      "|              0.09|            0.8|             6|                 301|                 5|            0| 1.0|                    0|         IT|medium|    3.0|      1.0|[0.09,0.8,6.0,301...|[0.85121580824689...|[0.08512158082468...|       1.0|\n",
      "|              0.09|            0.8|             6|                 304|                 4|            0| 1.0|                    0|  technical|   low|    1.0|      0.0|[0.09,0.8,6.0,304...|[0.43712777639800...|[0.04371277763980...|       1.0|\n",
      "|              0.09|            0.8|             6|                 304|                 5|            0| 1.0|                    0|  technical|medium|    1.0|      1.0|[0.09,0.8,6.0,304...|[0.85121580824689...|[0.08512158082468...|       1.0|\n",
      "|              0.09|            0.8|             7|                 283|                 5|            0| 1.0|                    0|  technical|   low|    1.0|      0.0|[0.09,0.8,7.0,283...|[2.15136153728055...|[0.21513615372805...|       1.0|\n",
      "|              0.09|           0.81|             6|                 257|                 4|            0| 1.0|                    0|    support|   low|    2.0|      0.0|[0.09,0.81,6.0,25...|[2.15136153728055...|[0.21513615372805...|       1.0|\n",
      "|              0.09|           0.82|             6|                 250|                 4|            0| 1.0|                    0|    support|   low|    2.0|      0.0|[0.09,0.82,6.0,25...|[1.70782198202198...|[0.17078219820219...|       1.0|\n",
      "|              0.09|           0.82|             6|                 251|                 4|            0| 1.0|                    0|    support|   low|    2.0|      0.0|[0.09,0.82,6.0,25...|[1.70782198202198...|[0.17078219820219...|       1.0|\n",
      "|              0.09|           0.83|             6|                 255|                 4|            0| 1.0|                    0|      sales|   low|    0.0|      0.0|[0.09,0.83,6.0,25...|[1.70782198202198...|[0.17078219820219...|       1.0|\n",
      "|              0.09|           0.83|             6|                 255|                 4|            0| 1.0|                    0|      sales|   low|    0.0|      0.0|[0.09,0.83,6.0,25...|[1.70782198202198...|[0.17078219820219...|       1.0|\n",
      "+------------------+---------------+--------------+--------------------+------------------+-------------+----+---------------------+-----------+------+-------+---------+--------------------+--------------------+--------------------+----------+\n",
      "only showing top 20 rows\n",
      "\n"
     ]
    }
   ],
   "source": [
    "test_out.show()"
   ]
  },
  {
   "cell_type": "code",
   "execution_count": 42,
   "metadata": {
    "collapsed": true
   },
   "outputs": [],
   "source": [
    "#BinaryClassification\n",
    "evaluator = ev.BinaryClassificationEvaluator(rawPredictionCol='probability', \n",
    "                                             labelCol='left')"
   ]
  },
  {
   "cell_type": "code",
   "execution_count": 43,
   "metadata": {
    "collapsed": false
   },
   "outputs": [
    {
     "data": {
      "text/plain": [
       "0.976172759436575"
      ]
     },
     "execution_count": 43,
     "metadata": {},
     "output_type": "execute_result"
    }
   ],
   "source": [
    "evaluator.evaluate(test_out)"
   ]
  },
  {
   "cell_type": "code",
   "execution_count": null,
   "metadata": {
    "collapsed": true
   },
   "outputs": [],
   "source": []
  }
 ],
 "metadata": {
  "kernelspec": {
   "display_name": "Python 2",
   "language": "python",
   "name": "python2"
  },
  "language_info": {
   "codemirror_mode": {
    "name": "ipython",
    "version": 2
   },
   "file_extension": ".py",
   "mimetype": "text/x-python",
   "name": "python",
   "nbconvert_exporter": "python",
   "pygments_lexer": "ipython2",
   "version": "2.7.13"
  }
 },
 "nbformat": 4,
 "nbformat_minor": 2
}
